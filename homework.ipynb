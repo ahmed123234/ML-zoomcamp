{
 "cells": [
  {
   "cell_type": "code",
   "execution_count": null,
   "id": "48987c19",
   "metadata": {},
   "outputs": [],
   "source": [
    "import pandas as pd"
   ]
  },
  {
   "cell_type": "code",
   "execution_count": null,
   "id": "7b2af5a2",
   "metadata": {},
   "outputs": [
    {
     "ename": "",
     "evalue": "",
     "output_type": "error",
     "traceback": [
      "\u001b[1;31mFailed to start the Kernel. \n",
      "\u001b[1;31mUnable to start Kernel 'base (Python 3.12.7)' due to a timeout waiting for the ports to get used. \n",
      "\u001b[1;31mView Jupyter <a href='command:jupyter.viewOutput'>log</a> for further details."
     ]
    }
   ],
   "source": [
    "pd.__version__\n"
   ]
  },
  {
   "cell_type": "code",
   "execution_count": null,
   "id": "7a975287",
   "metadata": {},
   "outputs": [
    {
     "ename": "",
     "evalue": "",
     "output_type": "error",
     "traceback": [
      "\u001b[1;31mFailed to start the Kernel. \n",
      "\u001b[1;31mUnable to start Kernel 'base (Python 3.12.7)' due to a timeout waiting for the ports to get used. \n",
      "\u001b[1;31mView Jupyter <a href='command:jupyter.viewOutput'>log</a> for further details."
     ]
    }
   ],
   "source": [
    "df = pd.read_csv('https://raw.githubusercontent.com/alexeygrigorev/datasets/master/car_fuel_efficiency.csv')"
   ]
  },
  {
   "cell_type": "code",
   "execution_count": null,
   "id": "bd37aa40",
   "metadata": {},
   "outputs": [
    {
     "ename": "",
     "evalue": "",
     "output_type": "error",
     "traceback": [
      "\u001b[1;31mFailed to start the Kernel. \n",
      "\u001b[1;31mUnable to start Kernel 'base (Python 3.12.7)' due to a timeout waiting for the ports to get used. \n",
      "\u001b[1;31mView Jupyter <a href='command:jupyter.viewOutput'>log</a> for further details."
     ]
    }
   ],
   "source": [
    "df.head()"
   ]
  },
  {
   "cell_type": "code",
   "execution_count": null,
   "id": "25bf4fb8",
   "metadata": {},
   "outputs": [],
   "source": [
    "df.count()"
   ]
  },
  {
   "cell_type": "code",
   "execution_count": null,
   "id": "96d5d626",
   "metadata": {},
   "outputs": [],
   "source": [
    "len(df)"
   ]
  },
  {
   "cell_type": "code",
   "execution_count": null,
   "id": "ff02af8f",
   "metadata": {},
   "outputs": [],
   "source": [
    "# extract the feul types\n",
    "unique_fuel_types = df['fuel_type'].unique()\n",
    "print(unique_fuel_types)\n",
    "\n",
    "# You can also count how many times each type appears using value_counts()\n",
    "print(\"\\n--- Counts of Each Fuel Type ---\")\n",
    "print(df['fuel_type'].value_counts())"
   ]
  },
  {
   "cell_type": "code",
   "execution_count": null,
   "id": "3da31333",
   "metadata": {},
   "outputs": [],
   "source": [
    "# Step 1: Check for Missing Values (Boolean Mask) ---\n",
    "# The .isna() method returns a Boolean DataFrame of the same shape.\n",
    "# True means the value is missing (NaN); False means it's present.\n",
    "missing_mask = df.isna()\n",
    "print(\"--- Boolean Mask (True = Missing) ---\")\n",
    "print(missing_mask)\n",
    "print(\"\\n\" + \"=\"*70 + \"\\n\")\n",
    "\n",
    "# Step 2: Get the Count of Missing Values per Column ---\n",
    "# We chain .sum() after .isna(). Since True is treated as 1 and False as 0,\n",
    "# summing down the column (axis=0, which is default) gives the total count of NaNs.\n",
    "missing_counts_per_column = df.isna().sum()\n",
    "print(\"--- Total Missing Values per Column ---\")\n",
    "print(missing_counts_per_column)\n",
    "print(\"\\n\" + \"=\"*70 + \"\\n\")\n",
    "\n",
    "# Total Missing Values in the Entire DataFrame ---\n",
    "# By chaining .sum() twice, we sum the missing counts from the previous step.\n",
    "total_missing_values = df.isna().sum().sum()\n",
    "print(f\"--- Total Missing Values in Entire Dataset: {total_missing_values} ---\")\n",
    "print(\"\\n\" + \"=\"*70 + \"\\n\")\n",
    "\n",
    "# Check if ANY Missing Values Exist (Quick Check) ---\n",
    "# This returns a single Boolean: True if there is at least one NaN anywhere.\n",
    "has_any_missing = df.isna().any().any()\n",
    "print(f\"--- Does the DataFrame contain ANY missing values? {has_any_missing} ---\")\n"
   ]
  },
  {
   "cell_type": "code",
   "execution_count": null,
   "id": "a0974177",
   "metadata": {},
   "outputs": [],
   "source": [
    "# find the max feul effeciency for cars from esia \n",
    "\n",
    "# Filter for Asian Cars ---\n",
    "# We create a new DataFrame containing only cars where the 'Origin' column is 'Asia'.\n",
    "asian_cars_df = df[df['origin'] == 'Asia']\n",
    "\n",
    "# Check for missing values in the fuel_efficiency_mpg column\n",
    "if df['fuel_efficiency_mpg'].isnull().any():\n",
    "    print(\"\\nWarning: The 'fuel_efficiency_mpg' column contains missing (NaN) values.\")\n",
    "    # Drop rows with NaN in 'MPG' for accurate max calculation, although .max() typically ignores them.\n",
    "    df_cleaned = asian_cars_df.dropna(subset=['fuel_efficiency_mpg'])\n",
    "else:\n",
    "    df_cleaned = asian_cars_df\n",
    "\n",
    "# --- Find the Maximum Fuel Efficiency ---\n",
    "# Calculate the maximum value in the 'MPG' column using the .max() method.\n",
    "max_mpg = df_cleaned['fuel_efficiency_mpg'].max()\n",
    "\n",
    "# --- Display the Result ---\n",
    "print(\"\\n\" + \"=\"*50)\n",
    "print(f\"The Maximum Fuel Efficiency (MPG) in the dataset is: {max_mpg:.2f}\")\n",
    "print(\"=\"*50)\n",
    "\n",
    "# Optional: Find the vehicle that achieved this maximum MPG\n",
    "max_car = df_cleaned[df_cleaned['fuel_efficiency_mpg'] == max_mpg]\n",
    "print(\"\\nVehicle(s) with the maximum MPG:\")\n",
    "# Reset index for cleaner display, ignoring the old index\n",
    "print(max_car.reset_index(drop=True))\n"
   ]
  },
  {
   "cell_type": "code",
   "execution_count": null,
   "id": "ca6b23d6",
   "metadata": {},
   "outputs": [],
   "source": [
    "# --- Initial Calculations (Before Imputation) ---\n",
    "\n",
    "# Check the count of missing values in 'horsepower'\n",
    "missing_count = df['horsepower'].isna().sum()\n",
    "print(f\"\\nTotal missing values in 'horsepower': {missing_count}\")\n",
    "\n",
    "# a. Find the initial median value\n",
    "initial_median = df['horsepower'].median()\n",
    "print(f\"1. Initial Median Horsepower (before fillna): {initial_median:.2f}\")\n",
    "\n",
    "# b. Calculate the most frequent value (Mode)\n",
    "# .mode() returns a Series, so we use .iloc[0] to get the first (and most frequent) value.\n",
    "mode_value = df['horsepower'].mode().iloc[0]\n",
    "print(f\"2. Most Frequent Horsepower (Mode): {mode_value:.2f}\")\n",
    "\n",
    "# --- Impute Missing Values ---\n",
    "\n",
    "# Create a copy of the DataFrame to avoid the SettingWithCopyWarning\n",
    "df_filled = df.copy()\n",
    "\n",
    "# Use fillna to replace missing 'horsepower' values with the mode\n",
    "df_filled['horsepower'].fillna(mode_value, inplace=True)\n",
    "\n",
    "# Verification check: Missing values should now be 0\n",
    "filled_missing_count = df_filled['horsepower'].isna().sum()\n",
    "print(f\"3. Missing values in 'horsepower' after fillna: {filled_missing_count}\")\n",
    "\n",
    "\n",
    "# --- Final Calculation (After Imputation) ---\n",
    "\n",
    "# c. Find the median value after imputation\n",
    "new_median = df_filled['horsepower'].median()\n",
    "print(f\"4. New Median Horsepower (after fillna): {new_median:.2f}\")\n",
    "\n",
    "# --- Comparison and Result ---\n",
    "print(\"\\n\" + \"=\"*50)\n",
    "if new_median > initial_median:\n",
    "    change = \"increased\"\n",
    "elif new_median < initial_median:\n",
    "    change = \"decreased\"\n",
    "else:\n",
    "    change = \"did not change\"\n",
    "\n",
    "print(f\"Comparison: Initial Median ({initial_median:.2f}) -> New Median ({new_median:.2f})\")\n",
    "print(f\"The median value of horsepower has {change}.\")\n",
    "print(\"=\"*50)\n"
   ]
  },
  {
   "cell_type": "code",
   "execution_count": null,
   "id": "b5c5779e",
   "metadata": {},
   "outputs": [],
   "source": [
    "# --- First make some Data Filtering and Selection ---\n",
    "\n",
    "# a. Select all the cars from Asia\n",
    "asian_cars_df = df[df['origin'] == 'Asia']\n",
    "\n",
    "# b. Select only columns 'vehicle_weight' and 'model_year'\n",
    "selected_cols_df = asian_cars_df[['vehicle_weight', 'model_year']]\n",
    "\n",
    "# c. Select the first 7 values\n",
    "X_df = selected_cols_df.head(7)\n",
    "print(\"\\n[STEP 1] Data Matrix X (First 7 Asian cars, weight & year):\")\n",
    "print(X_df)\n",
    "\n",
    "# d. Get the underlying NumPy array. Let's call it X.\n",
    "X = X_df.values\n",
    "\n",
    "# --- Linear Algebra Calculations ---\n",
    "\n",
    "# e. Compute XTX (Transpose of X multiplied by X)\n",
    "# X.T @ X performs matrix-matrix multiplication\n",
    "XTX = X.T @ X\n",
    "print(\"\\n[STEP 2] XTX Matrix (2x2):\")\n",
    "print(XTX)\n",
    "\n",
    "# f. Invert XTX\n",
    "# np.linalg.inv computes the matrix inverse\n",
    "XTX_inv = np.linalg.inv(XTX)\n",
    "print(\"\\n[STEP 3] Inverse of XTX:\")\n",
    "print(XTX_inv)\n",
    "\n",
    "# g. Create an array y\n",
    "y = np.array([1100, 1300, 800, 900, 1000, 1100, 1200])\n",
    "print(f\"\\n[STEP 4] Target Vector y (shape: {y.shape}): {y}\")\n",
    "\n",
    "# h. Compute w = (XTX_inv) @ (X.T) @ y\n",
    "# This computes the coefficients (w) for the linear regression model\n",
    "w = XTX_inv @ X.T @ y\n",
    "print(\"\\n[STEP 5] Coefficient Vector w:\")\n",
    "print(w)\n",
    "\n",
    "# --- Final Result ---\n",
    "\n",
    "# i. What's the sum of all the elements of the result?\n",
    "sum_w = w.sum()\n",
    "\n",
    "print(\"\\n\" + \"=\"*50)\n",
    "print(f\"The Sum of all elements in the coefficient vector (w) is: {sum_w:.3f}\")\n",
    "print(\"=\"*50)\n"
   ]
  }
 ],
 "metadata": {
  "kernelspec": {
   "display_name": "ml-zoomcamp",
   "language": "python",
   "name": "python3"
  },
  "language_info": {
   "codemirror_mode": {
    "name": "ipython",
    "version": 3
   },
   "file_extension": ".py",
   "mimetype": "text/x-python",
   "name": "python",
   "nbconvert_exporter": "python",
   "pygments_lexer": "ipython3",
   "version": "3.11.13"
  }
 },
 "nbformat": 4,
 "nbformat_minor": 5
}
